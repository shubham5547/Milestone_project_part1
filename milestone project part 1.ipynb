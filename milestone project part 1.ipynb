{
 "cells": [
  {
   "cell_type": "code",
   "execution_count": 1,
   "metadata": {},
   "outputs": [
    {
     "name": "stdout",
     "output_type": "stream",
     "text": [
      "textstep 1 : Write a function that can print out a board. set up yourboard as a list,where each index 1-9 corresponds with a number on a number pad,so you get a 3 by 3 board representation.\n"
     ]
    },
    {
     "data": {
      "text/plain": [
       "'step 1 : Write a function that can print out a board. set up yourboard as a list,where each index 1-9 corresponds with a number on a number pad,so you get a 3 by 3 board representation.'"
      ]
     },
     "execution_count": 1,
     "metadata": {},
     "output_type": "execute_result"
    }
   ],
   "source": [
    "input('text')"
   ]
  },
  {
   "cell_type": "code",
   "execution_count": 30,
   "metadata": {},
   "outputs": [],
   "source": [
    "def display_board(board):\n",
    "    \n",
    "    print(board[7]+'|'+board[8]+'|'+board[9])\n",
    "    print('-|-|-')\n",
    "    print(board[4]+'|'+board[5]+'|'+board[6])\n",
    "    print('-|-|-')\n",
    "    print(board[1]+'|'+board[2]+'|'+board[3])\n",
    "    print('-|-|-')\n",
    "        "
   ]
  },
  {
   "cell_type": "code",
   "execution_count": 31,
   "metadata": {},
   "outputs": [
    {
     "name": "stdout",
     "output_type": "stream",
     "text": [
      "x|o|x\n",
      "-|-|-\n",
      "o|x|o\n",
      "-|-|-\n",
      "x|o|x\n",
      "-|-|-\n"
     ]
    }
   ],
   "source": [
    "test_board = ['#','x','o','x','o','x','o','x','o','x']\n",
    "display_board(test_board)"
   ]
  },
  {
   "cell_type": "code",
   "execution_count": 32,
   "metadata": {},
   "outputs": [
    {
     "name": "stdout",
     "output_type": "stream",
     "text": [
      " | | \n",
      "-|-|-\n",
      " | | \n",
      "-|-|-\n",
      " | | \n",
      "-|-|-\n"
     ]
    }
   ],
   "source": [
    "test_board = [' ']*10\n",
    "display_board(test_board)"
   ]
  },
  {
   "cell_type": "code",
   "execution_count": 33,
   "metadata": {},
   "outputs": [
    {
     "name": "stdout",
     "output_type": "stream",
     "text": [
      "textstep2: write a function that takes in the board list object. a marker('x',or'o') and a desired position.\n"
     ]
    },
    {
     "data": {
      "text/plain": [
       "\"step2: write a function that takes in the board list object. a marker('x',or'o') and a desired position.\""
      ]
     },
     "execution_count": 33,
     "metadata": {},
     "output_type": "execute_result"
    }
   ],
   "source": [
    "input('text')"
   ]
  },
  {
   "cell_type": "code",
   "execution_count": 34,
   "metadata": {},
   "outputs": [],
   "source": [
    "def player_input():\n",
    "    \n",
    "    marker = ''\n",
    "    \n",
    "    # KEEP ASKING PLAYER 1 TO CHOOSE X OR O\n",
    "    \n",
    "    while marker != 'X' and marker != 'o':\n",
    "        marker = input('player 1, choose x or o:')\n",
    "        \n",
    "    # ASSIGN PLAYER 2, the opposite marker\n",
    "    player1 = marker\n",
    "    \n",
    "    if player1 == 'X':\n",
    "        player2 = 'o'\n",
    "    else:\n",
    "        player2 = 'X'\n",
    "        \n",
    "    return (player1,player2)\n",
    "    "
   ]
  },
  {
   "cell_type": "code",
   "execution_count": 36,
   "metadata": {},
   "outputs": [
    {
     "name": "stdout",
     "output_type": "stream",
     "text": [
      "player 1, choose x or o:shu\n",
      "player 1, choose x or o:ola\n",
      "player 1, choose x or o:hahaha\n",
      "player 1, choose x or o:x\n",
      "player 1, choose x or o:X\n"
     ]
    },
    {
     "data": {
      "text/plain": [
       "('X', 'o')"
      ]
     },
     "execution_count": 36,
     "metadata": {},
     "output_type": "execute_result"
    }
   ],
   "source": [
    "player_input()"
   ]
  },
  {
   "cell_type": "code",
   "execution_count": 37,
   "metadata": {},
   "outputs": [
    {
     "name": "stdout",
     "output_type": "stream",
     "text": [
      "player 1, choose x or o:x\n",
      "player 1, choose x or o:X\n"
     ]
    }
   ],
   "source": [
    "player_marker , player2_marker = player_input()"
   ]
  },
  {
   "cell_type": "code",
   "execution_count": 38,
   "metadata": {},
   "outputs": [
    {
     "data": {
      "text/plain": [
       "'o'"
      ]
     },
     "execution_count": 38,
     "metadata": {},
     "output_type": "execute_result"
    }
   ],
   "source": [
    "player2_marker"
   ]
  },
  {
   "cell_type": "code",
   "execution_count": null,
   "metadata": {},
   "outputs": [],
   "source": []
  }
 ],
 "metadata": {
  "kernelspec": {
   "display_name": "Python 3",
   "language": "python",
   "name": "python3"
  },
  "language_info": {
   "codemirror_mode": {
    "name": "ipython",
    "version": 3
   },
   "file_extension": ".py",
   "mimetype": "text/x-python",
   "name": "python",
   "nbconvert_exporter": "python",
   "pygments_lexer": "ipython3",
   "version": "3.7.6"
  }
 },
 "nbformat": 4,
 "nbformat_minor": 4
}
